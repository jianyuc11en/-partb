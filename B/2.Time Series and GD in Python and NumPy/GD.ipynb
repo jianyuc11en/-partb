{
 "cells": [
  {
   "cell_type": "code",
   "execution_count": 1,
   "id": "d6317659",
   "metadata": {},
   "outputs": [],
   "source": [
    "import pandas as pd \n",
    "import quandl\n",
    "import requests \n",
    "import json \n",
    "import numpy as np\n",
    "import datetime \n",
    "import matplotlib.pyplot as plt"
   ]
  },
  {
   "cell_type": "code",
   "execution_count": 2,
   "id": "9c17929c",
   "metadata": {},
   "outputs": [],
   "source": [
    "quandl.ApiConfig.api_key = 'iuyxJf4t-zGAW3ypiHCK'"
   ]
  },
  {
   "cell_type": "code",
   "execution_count": 3,
   "id": "81632fa0",
   "metadata": {},
   "outputs": [
    {
     "data": {
      "text/html": [
       "<div>\n",
       "<style scoped>\n",
       "    .dataframe tbody tr th:only-of-type {\n",
       "        vertical-align: middle;\n",
       "    }\n",
       "\n",
       "    .dataframe tbody tr th {\n",
       "        vertical-align: top;\n",
       "    }\n",
       "\n",
       "    .dataframe thead th {\n",
       "        text-align: right;\n",
       "    }\n",
       "</style>\n",
       "<table border=\"1\" class=\"dataframe\">\n",
       "  <thead>\n",
       "    <tr style=\"text-align: right;\">\n",
       "      <th></th>\n",
       "      <th>Value</th>\n",
       "    </tr>\n",
       "    <tr>\n",
       "      <th>Date</th>\n",
       "      <th></th>\n",
       "    </tr>\n",
       "  </thead>\n",
       "  <tbody>\n",
       "    <tr>\n",
       "      <th>2023-01-01</th>\n",
       "      <td>16526.78</td>\n",
       "    </tr>\n",
       "    <tr>\n",
       "      <th>2023-01-02</th>\n",
       "      <td>16613.71</td>\n",
       "    </tr>\n",
       "    <tr>\n",
       "      <th>2023-01-03</th>\n",
       "      <td>16671.54</td>\n",
       "    </tr>\n",
       "    <tr>\n",
       "      <th>2023-01-04</th>\n",
       "      <td>16669.60</td>\n",
       "    </tr>\n",
       "    <tr>\n",
       "      <th>2023-01-05</th>\n",
       "      <td>16850.63</td>\n",
       "    </tr>\n",
       "    <tr>\n",
       "      <th>2023-01-06</th>\n",
       "      <td>16826.41</td>\n",
       "    </tr>\n",
       "    <tr>\n",
       "      <th>2023-01-07</th>\n",
       "      <td>16951.97</td>\n",
       "    </tr>\n",
       "    <tr>\n",
       "      <th>2023-01-08</th>\n",
       "      <td>16945.20</td>\n",
       "    </tr>\n",
       "    <tr>\n",
       "      <th>2023-01-09</th>\n",
       "      <td>17108.41</td>\n",
       "    </tr>\n",
       "    <tr>\n",
       "      <th>2023-01-10</th>\n",
       "      <td>17192.07</td>\n",
       "    </tr>\n",
       "    <tr>\n",
       "      <th>2023-01-11</th>\n",
       "      <td>17443.68</td>\n",
       "    </tr>\n",
       "    <tr>\n",
       "      <th>2023-01-12</th>\n",
       "      <td>17934.60</td>\n",
       "    </tr>\n",
       "    <tr>\n",
       "      <th>2023-01-13</th>\n",
       "      <td>18859.32</td>\n",
       "    </tr>\n",
       "    <tr>\n",
       "      <th>2023-01-14</th>\n",
       "      <td>19933.36</td>\n",
       "    </tr>\n",
       "    <tr>\n",
       "      <th>2023-01-15</th>\n",
       "      <td>20955.15</td>\n",
       "    </tr>\n",
       "    <tr>\n",
       "      <th>2023-01-16</th>\n",
       "      <td>20880.99</td>\n",
       "    </tr>\n",
       "    <tr>\n",
       "      <th>2023-01-17</th>\n",
       "      <td>21190.49</td>\n",
       "    </tr>\n",
       "    <tr>\n",
       "      <th>2023-01-18</th>\n",
       "      <td>21145.18</td>\n",
       "    </tr>\n",
       "    <tr>\n",
       "      <th>2023-01-19</th>\n",
       "      <td>20672.78</td>\n",
       "    </tr>\n",
       "    <tr>\n",
       "      <th>2023-01-20</th>\n",
       "      <td>21087.76</td>\n",
       "    </tr>\n",
       "    <tr>\n",
       "      <th>2023-01-21</th>\n",
       "      <td>22693.45</td>\n",
       "    </tr>\n",
       "    <tr>\n",
       "      <th>2023-01-22</th>\n",
       "      <td>22772.50</td>\n",
       "    </tr>\n",
       "    <tr>\n",
       "      <th>2023-01-23</th>\n",
       "      <td>22724.23</td>\n",
       "    </tr>\n",
       "    <tr>\n",
       "      <th>2023-01-24</th>\n",
       "      <td>22924.37</td>\n",
       "    </tr>\n",
       "    <tr>\n",
       "      <th>2023-01-25</th>\n",
       "      <td>22634.47</td>\n",
       "    </tr>\n",
       "    <tr>\n",
       "      <th>2023-01-26</th>\n",
       "      <td>23089.74</td>\n",
       "    </tr>\n",
       "    <tr>\n",
       "      <th>2023-01-27</th>\n",
       "      <td>23008.29</td>\n",
       "    </tr>\n",
       "    <tr>\n",
       "      <th>2023-01-28</th>\n",
       "      <td>23075.81</td>\n",
       "    </tr>\n",
       "    <tr>\n",
       "      <th>2023-01-29</th>\n",
       "      <td>23032.23</td>\n",
       "    </tr>\n",
       "    <tr>\n",
       "      <th>2023-01-30</th>\n",
       "      <td>23755.85</td>\n",
       "    </tr>\n",
       "    <tr>\n",
       "      <th>2023-01-31</th>\n",
       "      <td>22836.09</td>\n",
       "    </tr>\n",
       "    <tr>\n",
       "      <th>2023-02-01</th>\n",
       "      <td>23133.91</td>\n",
       "    </tr>\n",
       "    <tr>\n",
       "      <th>2023-02-02</th>\n",
       "      <td>23722.02</td>\n",
       "    </tr>\n",
       "    <tr>\n",
       "      <th>2023-02-03</th>\n",
       "      <td>23454.41</td>\n",
       "    </tr>\n",
       "    <tr>\n",
       "      <th>2023-02-04</th>\n",
       "      <td>23440.09</td>\n",
       "    </tr>\n",
       "    <tr>\n",
       "      <th>2023-02-05</th>\n",
       "      <td>23328.24</td>\n",
       "    </tr>\n",
       "    <tr>\n",
       "      <th>2023-02-06</th>\n",
       "      <td>22936.95</td>\n",
       "    </tr>\n",
       "    <tr>\n",
       "      <th>2023-02-07</th>\n",
       "      <td>22763.74</td>\n",
       "    </tr>\n",
       "    <tr>\n",
       "      <th>2023-02-08</th>\n",
       "      <td>23254.79</td>\n",
       "    </tr>\n",
       "    <tr>\n",
       "      <th>2023-02-09</th>\n",
       "      <td>22964.87</td>\n",
       "    </tr>\n",
       "    <tr>\n",
       "      <th>2023-02-10</th>\n",
       "      <td>21794.05</td>\n",
       "    </tr>\n",
       "    <tr>\n",
       "      <th>2023-02-11</th>\n",
       "      <td>21638.55</td>\n",
       "    </tr>\n",
       "    <tr>\n",
       "      <th>2023-02-12</th>\n",
       "      <td>21861.84</td>\n",
       "    </tr>\n",
       "    <tr>\n",
       "      <th>2023-02-13</th>\n",
       "      <td>21787.25</td>\n",
       "    </tr>\n",
       "    <tr>\n",
       "      <th>2023-02-14</th>\n",
       "      <td>21787.99</td>\n",
       "    </tr>\n",
       "    <tr>\n",
       "      <th>2023-02-15</th>\n",
       "      <td>22211.80</td>\n",
       "    </tr>\n",
       "    <tr>\n",
       "      <th>2023-02-16</th>\n",
       "      <td>24340.73</td>\n",
       "    </tr>\n",
       "    <tr>\n",
       "      <th>2023-02-17</th>\n",
       "      <td>23544.67</td>\n",
       "    </tr>\n",
       "    <tr>\n",
       "      <th>2023-02-18</th>\n",
       "      <td>24572.97</td>\n",
       "    </tr>\n",
       "    <tr>\n",
       "      <th>2023-02-19</th>\n",
       "      <td>24641.94</td>\n",
       "    </tr>\n",
       "    <tr>\n",
       "      <th>2023-02-20</th>\n",
       "      <td>24290.18</td>\n",
       "    </tr>\n",
       "    <tr>\n",
       "      <th>2023-02-21</th>\n",
       "      <td>24834.81</td>\n",
       "    </tr>\n",
       "    <tr>\n",
       "      <th>2023-02-22</th>\n",
       "      <td>24438.10</td>\n",
       "    </tr>\n",
       "    <tr>\n",
       "      <th>2023-02-23</th>\n",
       "      <td>24185.67</td>\n",
       "    </tr>\n",
       "    <tr>\n",
       "      <th>2023-02-24</th>\n",
       "      <td>23946.39</td>\n",
       "    </tr>\n",
       "    <tr>\n",
       "      <th>2023-02-25</th>\n",
       "      <td>23192.02</td>\n",
       "    </tr>\n",
       "    <tr>\n",
       "      <th>2023-02-26</th>\n",
       "      <td>23176.76</td>\n",
       "    </tr>\n",
       "    <tr>\n",
       "      <th>2023-02-27</th>\n",
       "      <td>23563.11</td>\n",
       "    </tr>\n",
       "    <tr>\n",
       "      <th>2023-02-28</th>\n",
       "      <td>23497.62</td>\n",
       "    </tr>\n",
       "    <tr>\n",
       "      <th>2023-03-01</th>\n",
       "      <td>23128.30</td>\n",
       "    </tr>\n",
       "  </tbody>\n",
       "</table>\n",
       "</div>"
      ],
      "text/plain": [
       "               Value\n",
       "Date                \n",
       "2023-01-01  16526.78\n",
       "2023-01-02  16613.71\n",
       "2023-01-03  16671.54\n",
       "2023-01-04  16669.60\n",
       "2023-01-05  16850.63\n",
       "2023-01-06  16826.41\n",
       "2023-01-07  16951.97\n",
       "2023-01-08  16945.20\n",
       "2023-01-09  17108.41\n",
       "2023-01-10  17192.07\n",
       "2023-01-11  17443.68\n",
       "2023-01-12  17934.60\n",
       "2023-01-13  18859.32\n",
       "2023-01-14  19933.36\n",
       "2023-01-15  20955.15\n",
       "2023-01-16  20880.99\n",
       "2023-01-17  21190.49\n",
       "2023-01-18  21145.18\n",
       "2023-01-19  20672.78\n",
       "2023-01-20  21087.76\n",
       "2023-01-21  22693.45\n",
       "2023-01-22  22772.50\n",
       "2023-01-23  22724.23\n",
       "2023-01-24  22924.37\n",
       "2023-01-25  22634.47\n",
       "2023-01-26  23089.74\n",
       "2023-01-27  23008.29\n",
       "2023-01-28  23075.81\n",
       "2023-01-29  23032.23\n",
       "2023-01-30  23755.85\n",
       "2023-01-31  22836.09\n",
       "2023-02-01  23133.91\n",
       "2023-02-02  23722.02\n",
       "2023-02-03  23454.41\n",
       "2023-02-04  23440.09\n",
       "2023-02-05  23328.24\n",
       "2023-02-06  22936.95\n",
       "2023-02-07  22763.74\n",
       "2023-02-08  23254.79\n",
       "2023-02-09  22964.87\n",
       "2023-02-10  21794.05\n",
       "2023-02-11  21638.55\n",
       "2023-02-12  21861.84\n",
       "2023-02-13  21787.25\n",
       "2023-02-14  21787.99\n",
       "2023-02-15  22211.80\n",
       "2023-02-16  24340.73\n",
       "2023-02-17  23544.67\n",
       "2023-02-18  24572.97\n",
       "2023-02-19  24641.94\n",
       "2023-02-20  24290.18\n",
       "2023-02-21  24834.81\n",
       "2023-02-22  24438.10\n",
       "2023-02-23  24185.67\n",
       "2023-02-24  23946.39\n",
       "2023-02-25  23192.02\n",
       "2023-02-26  23176.76\n",
       "2023-02-27  23563.11\n",
       "2023-02-28  23497.62\n",
       "2023-03-01  23128.30"
      ]
     },
     "execution_count": 3,
     "metadata": {},
     "output_type": "execute_result"
    }
   ],
   "source": [
    "data_BTCUSD = quandl.get(\"BCHAIN/MKPRU\",start_date=\"2023-01-01\",end_date=\"2023-03-01\")\n",
    "df_BTCUSD = pd.DataFrame(data_BTCUSD)\n",
    "df_BTCUSD"
   ]
  },
  {
   "cell_type": "code",
   "execution_count": 7,
   "id": "ab9ea817",
   "metadata": {},
   "outputs": [
    {
     "data": {
      "text/html": [
       "<div>\n",
       "<style scoped>\n",
       "    .dataframe tbody tr th:only-of-type {\n",
       "        vertical-align: middle;\n",
       "    }\n",
       "\n",
       "    .dataframe tbody tr th {\n",
       "        vertical-align: top;\n",
       "    }\n",
       "\n",
       "    .dataframe thead th {\n",
       "        text-align: right;\n",
       "    }\n",
       "</style>\n",
       "<table border=\"1\" class=\"dataframe\">\n",
       "  <thead>\n",
       "    <tr style=\"text-align: right;\">\n",
       "      <th></th>\n",
       "      <th>volumefrom</th>\n",
       "    </tr>\n",
       "    <tr>\n",
       "      <th>time</th>\n",
       "      <th></th>\n",
       "    </tr>\n",
       "  </thead>\n",
       "  <tbody>\n",
       "    <tr>\n",
       "      <th>2023-01-01</th>\n",
       "      <td>20256.16</td>\n",
       "    </tr>\n",
       "    <tr>\n",
       "      <th>2023-01-02</th>\n",
       "      <td>30159.75</td>\n",
       "    </tr>\n",
       "    <tr>\n",
       "      <th>2023-01-03</th>\n",
       "      <td>37684.59</td>\n",
       "    </tr>\n",
       "    <tr>\n",
       "      <th>2023-01-04</th>\n",
       "      <td>58841.99</td>\n",
       "    </tr>\n",
       "    <tr>\n",
       "      <th>2023-01-05</th>\n",
       "      <td>31174.48</td>\n",
       "    </tr>\n",
       "    <tr>\n",
       "      <th>2023-01-06</th>\n",
       "      <td>52488.70</td>\n",
       "    </tr>\n",
       "    <tr>\n",
       "      <th>2023-01-07</th>\n",
       "      <td>11628.45</td>\n",
       "    </tr>\n",
       "    <tr>\n",
       "      <th>2023-01-08</th>\n",
       "      <td>21159.60</td>\n",
       "    </tr>\n",
       "    <tr>\n",
       "      <th>2023-01-09</th>\n",
       "      <td>73779.59</td>\n",
       "    </tr>\n",
       "    <tr>\n",
       "      <th>2023-01-10</th>\n",
       "      <td>57628.21</td>\n",
       "    </tr>\n",
       "    <tr>\n",
       "      <th>2023-01-11</th>\n",
       "      <td>63571.70</td>\n",
       "    </tr>\n",
       "    <tr>\n",
       "      <th>2023-01-12</th>\n",
       "      <td>122644.76</td>\n",
       "    </tr>\n",
       "    <tr>\n",
       "      <th>2023-01-13</th>\n",
       "      <td>94611.39</td>\n",
       "    </tr>\n",
       "    <tr>\n",
       "      <th>2023-01-14</th>\n",
       "      <td>107073.42</td>\n",
       "    </tr>\n",
       "    <tr>\n",
       "      <th>2023-01-15</th>\n",
       "      <td>44461.09</td>\n",
       "    </tr>\n",
       "    <tr>\n",
       "      <th>2023-01-16</th>\n",
       "      <td>66430.52</td>\n",
       "    </tr>\n",
       "    <tr>\n",
       "      <th>2023-01-17</th>\n",
       "      <td>55706.36</td>\n",
       "    </tr>\n",
       "    <tr>\n",
       "      <th>2023-01-18</th>\n",
       "      <td>82422.66</td>\n",
       "    </tr>\n",
       "    <tr>\n",
       "      <th>2023-01-19</th>\n",
       "      <td>54649.20</td>\n",
       "    </tr>\n",
       "    <tr>\n",
       "      <th>2023-01-20</th>\n",
       "      <td>82923.31</td>\n",
       "    </tr>\n",
       "    <tr>\n",
       "      <th>2023-01-21</th>\n",
       "      <td>96424.84</td>\n",
       "    </tr>\n",
       "    <tr>\n",
       "      <th>2023-01-22</th>\n",
       "      <td>62351.77</td>\n",
       "    </tr>\n",
       "    <tr>\n",
       "      <th>2023-01-23</th>\n",
       "      <td>70990.57</td>\n",
       "    </tr>\n",
       "    <tr>\n",
       "      <th>2023-01-24</th>\n",
       "      <td>78065.25</td>\n",
       "    </tr>\n",
       "    <tr>\n",
       "      <th>2023-01-25</th>\n",
       "      <td>88106.30</td>\n",
       "    </tr>\n",
       "    <tr>\n",
       "      <th>2023-01-26</th>\n",
       "      <td>64065.53</td>\n",
       "    </tr>\n",
       "    <tr>\n",
       "      <th>2023-01-27</th>\n",
       "      <td>65135.66</td>\n",
       "    </tr>\n",
       "    <tr>\n",
       "      <th>2023-01-28</th>\n",
       "      <td>20229.78</td>\n",
       "    </tr>\n",
       "    <tr>\n",
       "      <th>2023-01-29</th>\n",
       "      <td>57693.10</td>\n",
       "    </tr>\n",
       "    <tr>\n",
       "      <th>2023-01-30</th>\n",
       "      <td>73408.97</td>\n",
       "    </tr>\n",
       "    <tr>\n",
       "      <th>2023-01-31</th>\n",
       "      <td>49746.31</td>\n",
       "    </tr>\n",
       "    <tr>\n",
       "      <th>2023-02-01</th>\n",
       "      <td>50174.15</td>\n",
       "    </tr>\n",
       "    <tr>\n",
       "      <th>2023-02-02</th>\n",
       "      <td>57852.60</td>\n",
       "    </tr>\n",
       "    <tr>\n",
       "      <th>2023-02-03</th>\n",
       "      <td>40956.08</td>\n",
       "    </tr>\n",
       "    <tr>\n",
       "      <th>2023-02-04</th>\n",
       "      <td>14312.36</td>\n",
       "    </tr>\n",
       "    <tr>\n",
       "      <th>2023-02-05</th>\n",
       "      <td>27262.45</td>\n",
       "    </tr>\n",
       "    <tr>\n",
       "      <th>2023-02-06</th>\n",
       "      <td>40112.72</td>\n",
       "    </tr>\n",
       "    <tr>\n",
       "      <th>2023-02-07</th>\n",
       "      <td>37031.49</td>\n",
       "    </tr>\n",
       "    <tr>\n",
       "      <th>2023-02-08</th>\n",
       "      <td>32423.41</td>\n",
       "    </tr>\n",
       "    <tr>\n",
       "      <th>2023-02-09</th>\n",
       "      <td>72685.00</td>\n",
       "    </tr>\n",
       "    <tr>\n",
       "      <th>2023-02-10</th>\n",
       "      <td>52389.70</td>\n",
       "    </tr>\n",
       "    <tr>\n",
       "      <th>2023-02-11</th>\n",
       "      <td>17100.45</td>\n",
       "    </tr>\n",
       "    <tr>\n",
       "      <th>2023-02-12</th>\n",
       "      <td>27490.57</td>\n",
       "    </tr>\n",
       "    <tr>\n",
       "      <th>2023-02-13</th>\n",
       "      <td>58725.99</td>\n",
       "    </tr>\n",
       "    <tr>\n",
       "      <th>2023-02-14</th>\n",
       "      <td>51049.58</td>\n",
       "    </tr>\n",
       "    <tr>\n",
       "      <th>2023-02-15</th>\n",
       "      <td>70450.63</td>\n",
       "    </tr>\n",
       "    <tr>\n",
       "      <th>2023-02-16</th>\n",
       "      <td>89399.75</td>\n",
       "    </tr>\n",
       "    <tr>\n",
       "      <th>2023-02-17</th>\n",
       "      <td>83842.00</td>\n",
       "    </tr>\n",
       "    <tr>\n",
       "      <th>2023-02-18</th>\n",
       "      <td>22334.70</td>\n",
       "    </tr>\n",
       "    <tr>\n",
       "      <th>2023-02-19</th>\n",
       "      <td>43529.32</td>\n",
       "    </tr>\n",
       "    <tr>\n",
       "      <th>2023-02-20</th>\n",
       "      <td>54396.11</td>\n",
       "    </tr>\n",
       "    <tr>\n",
       "      <th>2023-02-21</th>\n",
       "      <td>68937.60</td>\n",
       "    </tr>\n",
       "    <tr>\n",
       "      <th>2023-02-22</th>\n",
       "      <td>71228.71</td>\n",
       "    </tr>\n",
       "    <tr>\n",
       "      <th>2023-02-23</th>\n",
       "      <td>67725.34</td>\n",
       "    </tr>\n",
       "    <tr>\n",
       "      <th>2023-02-24</th>\n",
       "      <td>68652.11</td>\n",
       "    </tr>\n",
       "    <tr>\n",
       "      <th>2023-02-25</th>\n",
       "      <td>24711.45</td>\n",
       "    </tr>\n",
       "    <tr>\n",
       "      <th>2023-02-26</th>\n",
       "      <td>27038.81</td>\n",
       "    </tr>\n",
       "    <tr>\n",
       "      <th>2023-02-27</th>\n",
       "      <td>44498.06</td>\n",
       "    </tr>\n",
       "    <tr>\n",
       "      <th>2023-02-28</th>\n",
       "      <td>34848.42</td>\n",
       "    </tr>\n",
       "    <tr>\n",
       "      <th>2023-03-01</th>\n",
       "      <td>45286.75</td>\n",
       "    </tr>\n",
       "  </tbody>\n",
       "</table>\n",
       "</div>"
      ],
      "text/plain": [
       "            volumefrom\n",
       "time                  \n",
       "2023-01-01    20256.16\n",
       "2023-01-02    30159.75\n",
       "2023-01-03    37684.59\n",
       "2023-01-04    58841.99\n",
       "2023-01-05    31174.48\n",
       "2023-01-06    52488.70\n",
       "2023-01-07    11628.45\n",
       "2023-01-08    21159.60\n",
       "2023-01-09    73779.59\n",
       "2023-01-10    57628.21\n",
       "2023-01-11    63571.70\n",
       "2023-01-12   122644.76\n",
       "2023-01-13    94611.39\n",
       "2023-01-14   107073.42\n",
       "2023-01-15    44461.09\n",
       "2023-01-16    66430.52\n",
       "2023-01-17    55706.36\n",
       "2023-01-18    82422.66\n",
       "2023-01-19    54649.20\n",
       "2023-01-20    82923.31\n",
       "2023-01-21    96424.84\n",
       "2023-01-22    62351.77\n",
       "2023-01-23    70990.57\n",
       "2023-01-24    78065.25\n",
       "2023-01-25    88106.30\n",
       "2023-01-26    64065.53\n",
       "2023-01-27    65135.66\n",
       "2023-01-28    20229.78\n",
       "2023-01-29    57693.10\n",
       "2023-01-30    73408.97\n",
       "2023-01-31    49746.31\n",
       "2023-02-01    50174.15\n",
       "2023-02-02    57852.60\n",
       "2023-02-03    40956.08\n",
       "2023-02-04    14312.36\n",
       "2023-02-05    27262.45\n",
       "2023-02-06    40112.72\n",
       "2023-02-07    37031.49\n",
       "2023-02-08    32423.41\n",
       "2023-02-09    72685.00\n",
       "2023-02-10    52389.70\n",
       "2023-02-11    17100.45\n",
       "2023-02-12    27490.57\n",
       "2023-02-13    58725.99\n",
       "2023-02-14    51049.58\n",
       "2023-02-15    70450.63\n",
       "2023-02-16    89399.75\n",
       "2023-02-17    83842.00\n",
       "2023-02-18    22334.70\n",
       "2023-02-19    43529.32\n",
       "2023-02-20    54396.11\n",
       "2023-02-21    68937.60\n",
       "2023-02-22    71228.71\n",
       "2023-02-23    67725.34\n",
       "2023-02-24    68652.11\n",
       "2023-02-25    24711.45\n",
       "2023-02-26    27038.81\n",
       "2023-02-27    44498.06\n",
       "2023-02-28    34848.42\n",
       "2023-03-01    45286.75"
      ]
     },
     "execution_count": 7,
     "metadata": {},
     "output_type": "execute_result"
    }
   ],
   "source": [
    "api_key = '052b466bf6d2f918355d7ba01d65b6f074d6b52f5e34830614aa599ca3e9de03'\n",
    "url = 'https://min-api.cryptocompare.com/data/histoday'\n",
    "params = {'api_key': api_key,\n",
    "          'fsym': 'BTC',\n",
    "          'tsym': 'USD',\n",
    "          'limit': 2000,\n",
    "          'aggregate': 1}\n",
    "response = requests.get(url, params=params)\n",
    "data = response.json()['Data']\n",
    "df = pd.DataFrame(data)\n",
    "df['time'] = pd.to_datetime(df['time'], unit='s')\n",
    "df.set_index('time', inplace=True)\n",
    "df = df[['volumefrom']]\n",
    "df = df.loc['2023-01-01':'2023-03-01']\n",
    "df"
   ]
  },
  {
   "cell_type": "code",
   "execution_count": 8,
   "id": "2c5db41a",
   "metadata": {},
   "outputs": [],
   "source": [
    "x = df_BTCUSD.values\n",
    "y = df.values"
   ]
  },
  {
   "cell_type": "code",
   "execution_count": 9,
   "id": "789557f2",
   "metadata": {},
   "outputs": [
    {
     "data": {
      "text/plain": [
       "Text(0, 0.5, 'y')"
      ]
     },
     "execution_count": 9,
     "metadata": {},
     "output_type": "execute_result"
    },
    {
     "data": {
      "image/png": "[encoded data removed]",
      "text/plain": [
       "<Figure size 432x288 with 1 Axes>"
      ]
     },
     "metadata": {
      "needs_background": "light"
     },
     "output_type": "display_data"
    }
   ],
   "source": [
    "plt.plot(x,y,'go')\n",
    "plt.xlabel(\"x\")\n",
    "plt.ylabel(\"y\")"
   ]
  },
  {
   "cell_type": "code",
   "execution_count": 10,
   "id": "b188ae10",
   "metadata": {},
   "outputs": [
    {
     "name": "stdout",
     "output_type": "stream",
     "text": [
      "alpha = 43996.155966960956 \n",
      "beta = 0.5030628071220687\n"
     ]
    }
   ],
   "source": [
    "beta = ((np.multiply(y, x)).mean()-np.mean(x)*np.mean(y))/((np.multiply(x, x)).mean()-np.mean(x)*np.mean(x))\n",
    "alpha =np.mean(y)-beta*np.mean(x)\n",
    "print(\"alpha =\",alpha, \"\\nbeta =\",beta)"
   ]
  },
  {
   "cell_type": "code",
   "execution_count": 18,
   "id": "44c863e4",
   "metadata": {},
   "outputs": [
    {
     "data": {
      "text/plain": [
       "array([[16000],\n",
       "       [25000]])"
      ]
     },
     "execution_count": 18,
     "metadata": {},
     "output_type": "execute_result"
    }
   ],
   "source": [
    "x_new = np.array([[16000],[25000]])\n",
    "x_new"
   ]
  },
  {
   "cell_type": "code",
   "execution_count": 19,
   "id": "2421eaa8",
   "metadata": {},
   "outputs": [
    {
     "data": {
      "text/plain": [
       "array([[52045.16088091],\n",
       "       [56572.72614501]])"
      ]
     },
     "execution_count": 19,
     "metadata": {},
     "output_type": "execute_result"
    }
   ],
   "source": [
    "y_hat = alpha + np.multiply(beta,x_new)\n",
    "y_hat"
   ]
  },
  {
   "cell_type": "code",
   "execution_count": 20,
   "id": "231205da",
   "metadata": {},
   "outputs": [
    {
     "data": {
      "text/plain": [
       "[<matplotlib.lines.Line2D at 0x28266d6b220>]"
      ]
     },
     "execution_count": 20,
     "metadata": {},
     "output_type": "execute_result"
    },
    {
     "data": {
      "image/png": "[encoded data removed]",
      "text/plain": [
       "<Figure size 432x288 with 1 Axes>"
      ]
     },
     "metadata": {
      "needs_background": "light"
     },
     "output_type": "display_data"
    }
   ],
   "source": [
    "plt.plot(x_new,y_hat)\n",
    "plt.plot(x,y,'go')"
   ]
  },
  {
   "cell_type": "code",
   "execution_count": 24,
   "id": "ca5aa93e",
   "metadata": {},
   "outputs": [],
   "source": [
    "alpha = 27000"
   ]
  },
  {
   "cell_type": "code",
   "execution_count": 25,
   "id": "f13e814b",
   "metadata": {},
   "outputs": [
    {
     "data": {
      "text/plain": [
       "array([[35049.00491395],\n",
       "       [39576.57017805]])"
      ]
     },
     "execution_count": 25,
     "metadata": {},
     "output_type": "execute_result"
    }
   ],
   "source": [
    "y_hat = alpha + np.multiply(beta,x_new)\n",
    "y_hat"
   ]
  },
  {
   "cell_type": "code",
   "execution_count": 26,
   "id": "6fdd0e77",
   "metadata": {},
   "outputs": [
    {
     "data": {
      "text/plain": [
       "[<matplotlib.lines.Line2D at 0x28266e27dc0>]"
      ]
     },
     "execution_count": 26,
     "metadata": {},
     "output_type": "execute_result"
    },
    {
     "data": {
      "image/png": "[encoded data removed]",
      "text/plain": [
       "<Figure size 432x288 with 1 Axes>"
      ]
     },
     "metadata": {
      "needs_background": "light"
     },
     "output_type": "display_data"
    }
   ],
   "source": [
    "plt.plot(x_new,y_hat)\n",
    "plt.plot(x,y,'go')"
   ]
  },
  {
   "cell_type": "code",
   "execution_count": 27,
   "id": "1c13b167",
   "metadata": {},
   "outputs": [],
   "source": [
    "def  cal_cost(alpha,beta,x,y):\n",
    "        n = len(y)\n",
    "        predictions = alpha + np.multiply(beta,x)\n",
    "        cost = (1/2*n) * np.sum(np.square(predictions-y))\n",
    "        return cost"
   ]
  },
  {
   "cell_type": "code",
   "execution_count": 28,
   "id": "6efd81dd",
   "metadata": {},
   "outputs": [
    {
     "data": {
      "text/plain": [
       "1568183745889.6184"
      ]
     },
     "execution_count": 28,
     "metadata": {},
     "output_type": "execute_result"
    }
   ],
   "source": [
    "cal_cost(alpha,beta,x,y)"
   ]
  },
  {
   "cell_type": "code",
   "execution_count": 30,
   "id": "f4393268",
   "metadata": {},
   "outputs": [
    {
     "data": {
      "text/plain": [
       "1568183745889.6184"
      ]
     },
     "execution_count": 30,
     "metadata": {},
     "output_type": "execute_result"
    }
   ],
   "source": [
    "cal_cost(27000,beta,x,y)"
   ]
  },
  {
   "cell_type": "code",
   "execution_count": 42,
   "id": "e0d1d8c0",
   "metadata": {},
   "outputs": [
    {
     "data": {
      "text/plain": [
       "[<matplotlib.lines.Line2D at 0x28269bac0d0>,\n",
       " <matplotlib.lines.Line2D at 0x28269bac190>,\n",
       " <matplotlib.lines.Line2D at 0x28269bac2b0>,\n",
       " <matplotlib.lines.Line2D at 0x28269bac3d0>,\n",
       " <matplotlib.lines.Line2D at 0x28269bac4f0>,\n",
       " <matplotlib.lines.Line2D at 0x28269bac610>,\n",
       " <matplotlib.lines.Line2D at 0x28269bac730>,\n",
       " <matplotlib.lines.Line2D at 0x28269bac850>,\n",
       " <matplotlib.lines.Line2D at 0x28269bac970>,\n",
       " <matplotlib.lines.Line2D at 0x28269baca90>]"
      ]
     },
     "execution_count": 42,
     "metadata": {},
     "output_type": "execute_result"
    },
    {
     "data": {
      "image/png": "[encoded data removed]",
      "text/plain": [
       "<Figure size 432x288 with 1 Axes>"
      ]
     },
     "metadata": {
      "needs_background": "light"
     },
     "output_type": "display_data"
    }
   ],
   "source": [
    "iterations = 50\n",
    "alpha = 15000\n",
    "\n",
    "loss_history = np.zeros((iterations,10))\n",
    "alpha_history = np.zeros((iterations,10))\n",
    "\n",
    "for i in range(iterations):\n",
    "    alpha = alpha +1\n",
    "    \n",
    "    loss_history[i] = cal_cost(alpha,beta,x,y)\n",
    "    alpha_history[i] = alpha\n",
    "    \n",
    "plt.plot(alpha_history,loss_history,'go')"
   ]
  },
  {
   "cell_type": "code",
   "execution_count": 41,
   "id": "ab75b707",
   "metadata": {},
   "outputs": [
    {
     "data": {
      "text/plain": [
       "[<matplotlib.lines.Line2D at 0x28269b2b070>,\n",
       " <matplotlib.lines.Line2D at 0x28269b2b130>,\n",
       " <matplotlib.lines.Line2D at 0x28269b2b250>,\n",
       " <matplotlib.lines.Line2D at 0x28269b2b370>,\n",
       " <matplotlib.lines.Line2D at 0x28269b2b490>,\n",
       " <matplotlib.lines.Line2D at 0x28269b2b5b0>,\n",
       " <matplotlib.lines.Line2D at 0x28269b2b6d0>,\n",
       " <matplotlib.lines.Line2D at 0x28269b2b7f0>,\n",
       " <matplotlib.lines.Line2D at 0x28269b2b910>,\n",
       " <matplotlib.lines.Line2D at 0x28269b2ba30>]"
      ]
     },
     "execution_count": 41,
     "metadata": {},
     "output_type": "execute_result"
    },
    {
     "data": {
      "image/png": "[encoded data removed]",
      "text/plain": [
       "<Figure size 432x288 with 1 Axes>"
      ]
     },
     "metadata": {
      "needs_background": "light"
     },
     "output_type": "display_data"
    }
   ],
   "source": [
    "iterations = 10000\n",
    "alpha =15000\n",
    "n = len(y)\n",
    "\n",
    "loss_history = np.zeros((iterations,10))\n",
    "alpha_history = np.zeros((iterations,10))\n",
    "\n",
    "for i in range(iterations):\n",
    "    \n",
    "        \n",
    "        prediction = alpha + np.multiply(beta,x)\n",
    "        residuals = y-prediction\n",
    "        residuals_sum = sum(residuals)\n",
    "        gradient = -(1/n)*0.1*residuals_sum\n",
    " \n",
    "        alpha = alpha - gradient\n",
    "    \n",
    "        loss_history[i] = cal_cost(alpha,beta,x,y)\n",
    "        alpha_history[i] = alpha\n",
    "    \n",
    "plt.plot(alpha_history,loss_history,'go')"
   ]
  },
  {
   "cell_type": "code",
   "execution_count": null,
   "id": "8c806188",
   "metadata": {},
   "outputs": [],
   "source": []
  }
 ],
 "metadata": {
  "kernelspec": {
   "display_name": "Python 3 (ipykernel)",
   "language": "python",
   "name": "python3"
  },
  "language_info": {
   "codemirror_mode": {
    "name": "ipython",
    "version": 3
   },
   "file_extension": ".py",
   "mimetype": "text/x-python",
   "name": "python",
   "nbconvert_exporter": "python",
   "pygments_lexer": "ipython3",
   "version": "3.9.12"
  }
 },
 "nbformat": 4,
 "nbformat_minor": 5
}
